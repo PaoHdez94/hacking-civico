{
  "nbformat": 4,
  "nbformat_minor": 0,
  "metadata": {
    "colab": {
      "name": "Untitled0.ipynb",
      "provenance": [],
      "authorship_tag": "ABX9TyP2ZdF9zrrFhrj/XXNQgAhR",
      "include_colab_link": true
    },
    "kernelspec": {
      "name": "python3",
      "display_name": "Python 3"
    }
  },
  "cells": [
    {
      "cell_type": "markdown",
      "metadata": {
        "id": "view-in-github",
        "colab_type": "text"
      },
      "source": [
        "<a href=\"https://colab.research.google.com/github/PaoHdez94/hacking-civico/blob/master/EJEMPLO_CARGA_DATOS.ipynb\" target=\"_parent\"><img src=\"https://colab.research.google.com/assets/colab-badge.svg\" alt=\"Open In Colab\"/></a>"
      ]
    },
    {
      "cell_type": "markdown",
      "metadata": {
        "id": "BK4_dc0xMnrx",
        "colab_type": "text"
      },
      "source": [
        "COVID-19 en México"
      ]
    },
    {
      "cell_type": "markdown",
      "metadata": {
        "id": "BrXVFWMsMzA3",
        "colab_type": "text"
      },
      "source": [
        "Carga"
      ]
    },
    {
      "cell_type": "code",
      "metadata": {
        "id": "37pxQd3TM9gu",
        "colab_type": "code",
        "colab": {}
      },
      "source": [
        "from google.colab import drive\n",
        "drive.mount('/content/drive', force_remount= True)"
      ],
      "execution_count": null,
      "outputs": []
    },
    {
      "cell_type": "code",
      "metadata": {
        "id": "_H48h7M5QtKH",
        "colab_type": "code",
        "colab": {}
      },
      "source": [
        "import io\n",
        "import statistics\n",
        "import pandas as pd\n",
        "import numpy as np\n",
        "\n",
        "path = '/content/drive/My Drive/200908COVID19MEXICO.csv'\n",
        "data = pd.read_csv(path,encoding='latin-1')\n",
        "\n",
        "data.head()"
      ],
      "execution_count": null,
      "outputs": []
    },
    {
      "cell_type": "code",
      "metadata": {
        "id": "1I55xC_8Rq0v",
        "colab_type": "code",
        "colab": {}
      },
      "source": [
        "path_dic = '/content/drive/My Drive/EJEMPLO COVID/diccionario_datos_covid19/Descriptores_0419.xlsx'\n",
        "diccionario = pd.read_excel(path_dic)\n",
        "\n",
        "diccionario"
      ],
      "execution_count": null,
      "outputs": []
    },
    {
      "cell_type": "code",
      "metadata": {
        "id": "PzXRpdroTP8g",
        "colab_type": "code",
        "colab": {}
      },
      "source": [
        "path_cat = '/content/drive/My Drive/EJEMPLO COVID/diccionario_datos_covid19/Catalogos_0412.xlsx'\n",
        "sheets = ['ORIGEN','SECTOR','SEXO','TIPO_PACIENTE','SI_NO','NACIONALIDAD','RESULTADO','MUNICIPIOS']\n",
        "catalogues = {}\n",
        "for sheet in sheets:\n",
        "  catalogue = pd.read_excel(path_cat, sheet_name='Catálogo ' + sheet)\n",
        "  catalogue.columns = catalogue.columns.str.replace(' ', '_')\n",
        "  catalogue.columns = catalogue.columns.str.replace('.', '')\n",
        "  catalogue.columns = catalogue.columns.str.lower()\n",
        "  new_catalogue = {sheet: catalogue}\n",
        "  catalogues.update(new_catalogue)\n",
        "\n",
        "catalogues['MUNICIPIOS']"
      ],
      "execution_count": null,
      "outputs": []
    }
  ]
}