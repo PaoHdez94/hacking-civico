{
  "nbformat": 4,
  "nbformat_minor": 0,
  "metadata": {
    "colab": {
      "name": "tareas/02-python-101.ipynb.",
      "provenance": [],
      "authorship_tag": "ABX9TyO0rXSuc7WCBZdjYFNGLxy0",
      "include_colab_link": true
    },
    "kernelspec": {
      "name": "python3",
      "display_name": "Python 3"
    }
  },
  "cells": [
    {
      "cell_type": "markdown",
      "metadata": {
        "id": "view-in-github",
        "colab_type": "text"
      },
      "source": [
        "<a href=\"https://colab.research.google.com/github/PaoHdez94/hacking-civico/blob/master/tareas/02_python_101.ipynb\" target=\"_parent\"><img src=\"https://colab.research.google.com/assets/colab-badge.svg\" alt=\"Open In Colab\"/></a>"
      ]
    },
    {
      "cell_type": "markdown",
      "metadata": {
        "id": "tNs7DUVS3SHe",
        "colab_type": "text"
      },
      "source": [
        "# **PRIMERA PARTE**\n",
        "**DENSIDAD POBLACIONAL**\n",
        "\n",
        "1.   **IRAPUATO**\t\n",
        "\n",
        "    Población: 574 344\t\tSuperficie: 845.16 km2\n",
        "\n",
        "2.   **GUANAJUATO**\n",
        "\n",
        "    Población: 5,854,000\t\tSuperficie: 30,607 km2\n",
        "\n",
        "1.   **MÉXICO**\n",
        "\n",
        "    Población: 119,530,753\t\tSuperficie: 1,959,248 km2"
      ]
    },
    {
      "cell_type": "code",
      "metadata": {
        "id": "9eUBHGu35I-u",
        "colab_type": "code",
        "colab": {
          "base_uri": "https://localhost:8080/",
          "height": 67
        },
        "outputId": "976a1ad7-e914-4ef8-d0b1-6fb7480e6331"
      },
      "source": [
        "poblacion_ciudad = 57444\n",
        "poblacion_estado = 5854000\n",
        "poblacion_pais = 119530753\n",
        "\n",
        "area_ciudad = 845.16\n",
        "area_estado = 30607\n",
        "area_pais = 1959248\n",
        "\n",
        "densidad_ciudad = poblacion_ciudad/area_ciudad\n",
        "densidad_estado = poblacion_estado/area_estado\n",
        "densidad_pais = poblacion_pais/area_pais\n",
        "\n",
        "print ('La densidad poblacional de Irapuato es:',densidad_ciudad)\n",
        "print ('La densidad poblacional de Guanajuato es:', densidad_estado)\n",
        "print ('La densidad poblacional de México es:', densidad_pais)\n"
      ],
      "execution_count": null,
      "outputs": [
        {
          "output_type": "stream",
          "text": [
            "La densidad poblacional de Irapuato es: 67.96819537129065\n",
            "La densidad poblacional de Guanajuato es: 191.26343646878166\n",
            "La densidad poblacional de México es: 61.008485398479415\n"
          ],
          "name": "stdout"
        }
      ]
    },
    {
      "cell_type": "markdown",
      "metadata": {
        "id": "c5TamXUb_qJb",
        "colab_type": "text"
      },
      "source": [
        "# SEGUNDA PARTE\n",
        "\n",
        "**GASTO PER CÁPITA**\n",
        "\n",
        "\n",
        "1.   **Gasto Público en Salud (Federal):**\n",
        "  *   Año 2020 --> 640,108,780,839\n",
        "  *   Año 2019 --> 602,389,948,813\n",
        "2.   **Gasto Público en Salud (Guanajuato):**\n",
        "  *   Año 2020 --> 19,346,594,353\n",
        "  *   Año 2019 --> 15,752,248,131\n",
        "\n",
        "\n"
      ]
    },
    {
      "cell_type": "code",
      "metadata": {
        "id": "nFakAKq3BuoA",
        "colab_type": "code",
        "colab": {
          "base_uri": "https://localhost:8080/",
          "height": 84
        },
        "outputId": "1fa3b9d7-243f-411f-c80b-ae6ccce9f83e"
      },
      "source": [
        "poblacion_estado = 5854000\n",
        "poblacion_pais = 119530753\n",
        "\n",
        "gasto_publico_federal_2020 = 640108780839\n",
        "gasto_publico_federal_2019 = 602389948813\n",
        "\n",
        "gasto_publico_estatal_2020 = 19346594353\n",
        "gasto_publico_estatal_2019 = 15752248131\n",
        "\n",
        "PIB_federal_2020 = gasto_publico_federal_2020/poblacion_pais\n",
        "PIB_federal_2019 = gasto_publico_federal_2019/poblacion_pais\n",
        "\n",
        "PIB_estatal_2020 = gasto_publico_estatal_2020/poblacion_estado\n",
        "PIB_estatal_2019 = gasto_publico_estatal_2019/poblacion_estado\n",
        "\n",
        "print ('El Gasto Per Cápita a nivel Federal en el año 2020 es de: $',PIB_federal_2020)\n",
        "print ('El Gasto Per Cápita a nivel Federal en el año 2019 es de: $',PIB_federal_2019)\n",
        "print ('El Gasto Per Cápita a nivel Estatal en el año 2020 es de: $',PIB_estatal_2020)\n",
        "print ('El Gasto Per Cápita a nivel Estatal en el año 2019 es de: $',PIB_estatal_2019)"
      ],
      "execution_count": null,
      "outputs": [
        {
          "output_type": "stream",
          "text": [
            "El Gasto Per Cápita a nivel Federal en el año 2020 es de: $ 5355.180694285428\n",
            "El Gasto Per Cápita a nivel Federal en el año 2019 es de: $ 5039.6231404398495\n",
            "El Gasto Per Cápita a nivel Estatal en el año 2020 es de: $ 3304.850419029723\n",
            "El Gasto Per Cápita a nivel Estatal en el año 2019 es de: $ 2690.8520893406217\n"
          ],
          "name": "stdout"
        }
      ]
    }
  ]
}