{
  "nbformat": 4,
  "nbformat_minor": 0,
  "metadata": {
    "colab": {
      "name": "03-exploracion.ipynb",
      "provenance": [],
      "authorship_tag": "ABX9TyOjGgnkACblwwTSyFrG16DY",
      "include_colab_link": true
    },
    "kernelspec": {
      "name": "python3",
      "display_name": "Python 3"
    }
  },
  "cells": [
    {
      "cell_type": "markdown",
      "metadata": {
        "id": "view-in-github",
        "colab_type": "text"
      },
      "source": [
        "<a href=\"https://colab.research.google.com/github/PaoHdez94/hacking-civico/blob/master/tareas/03_exploracion.ipynb\" target=\"_parent\"><img src=\"https://colab.research.google.com/assets/colab-badge.svg\" alt=\"Open In Colab\"/></a>"
      ]
    },
    {
      "cell_type": "markdown",
      "metadata": {
        "id": "BK4_dc0xMnrx",
        "colab_type": "text"
      },
      "source": [
        "COVID-19 en México"
      ]
    },
    {
      "cell_type": "markdown",
      "metadata": {
        "id": "BrXVFWMsMzA3",
        "colab_type": "text"
      },
      "source": [
        "Carga"
      ]
    },
    {
      "cell_type": "code",
      "metadata": {
        "id": "37pxQd3TM9gu",
        "colab_type": "code",
        "colab": {
          "base_uri": "https://localhost:8080/",
          "height": 34
        },
        "outputId": "213f7e84-8916-4e65-d8a2-84f89b205788"
      },
      "source": [
        "from google.colab import drive\n",
        "drive.mount('/content/drive', force_remount= True)"
      ],
      "execution_count": 1,
      "outputs": [
        {
          "output_type": "stream",
          "text": [
            "Mounted at /content/drive\n"
          ],
          "name": "stdout"
        }
      ]
    },
    {
      "cell_type": "code",
      "metadata": {
        "id": "_H48h7M5QtKH",
        "colab_type": "code",
        "colab": {}
      },
      "source": [
        "import io\n",
        "import statistics\n",
        "import pandas as pd\n",
        "import numpy as np\n",
        "\n",
        "path = '/content/drive/My Drive/EJEMPLO COVID/200908COVID19MEXICO.csv'\n",
        "data = pd.read_csv(path,encoding='latin-1')\n",
        "\n",
        "data.head()"
      ],
      "execution_count": null,
      "outputs": []
    },
    {
      "cell_type": "code",
      "metadata": {
        "id": "1I55xC_8Rq0v",
        "colab_type": "code",
        "colab": {}
      },
      "source": [
        "path_dic = '/content/drive/My Drive/EJEMPLO COVID/diccionario_datos_covid19/Descriptores_0419.xlsx'\n",
        "diccionario = pd.read_excel(path_dic)\n",
        "\n",
        "diccionario"
      ],
      "execution_count": null,
      "outputs": []
    },
    {
      "cell_type": "code",
      "metadata": {
        "id": "PzXRpdroTP8g",
        "colab_type": "code",
        "colab": {}
      },
      "source": [
        "path_cat = '/content/drive/My Drive/EJEMPLO COVID/diccionario_datos_covid19/Catalogos_0412.xlsx'\n",
        "sheets = ['ORIGEN','SECTOR','SEXO','TIPO_PACIENTE','SI_NO','NACIONALIDAD','RESULTADO','de ENTIDADES','MUNICIPIOS']\n",
        "catalogues = {}\n",
        "for sheet in sheets:\n",
        "  catalogue = pd.read_excel(path_cat, sheet_name='Catálogo ' + sheet)\n",
        "  catalogue.columns = catalogue.columns.str.replace(' ', '_')\n",
        "  catalogue.columns = catalogue.columns.str.replace('.', '')\n",
        "  catalogue.columns = catalogue.columns.str.lower()\n",
        "  new_catalogue = {sheet: catalogue}\n",
        "  catalogues.update(new_catalogue)\n",
        "\n",
        "catalogues"
      ],
      "execution_count": null,
      "outputs": []
    },
    {
      "cell_type": "code",
      "metadata": {
        "id": "DtSUs-hXJ7vh",
        "colab_type": "code",
        "colab": {
          "base_uri": "https://localhost:8080/",
          "height": 136
        },
        "outputId": "ab08de72-2a62-4866-a62b-7e26c5ec65a0"
      },
      "source": [
        "catalogues['TIPO_PACIENTE']"
      ],
      "execution_count": 72,
      "outputs": [
        {
          "output_type": "execute_result",
          "data": {
            "text/html": [
              "<div>\n",
              "<style scoped>\n",
              "    .dataframe tbody tr th:only-of-type {\n",
              "        vertical-align: middle;\n",
              "    }\n",
              "\n",
              "    .dataframe tbody tr th {\n",
              "        vertical-align: top;\n",
              "    }\n",
              "\n",
              "    .dataframe thead th {\n",
              "        text-align: right;\n",
              "    }\n",
              "</style>\n",
              "<table border=\"1\" class=\"dataframe\">\n",
              "  <thead>\n",
              "    <tr style=\"text-align: right;\">\n",
              "      <th></th>\n",
              "      <th>clave</th>\n",
              "      <th>descripción</th>\n",
              "    </tr>\n",
              "  </thead>\n",
              "  <tbody>\n",
              "    <tr>\n",
              "      <th>0</th>\n",
              "      <td>1</td>\n",
              "      <td>AMBULATORIO</td>\n",
              "    </tr>\n",
              "    <tr>\n",
              "      <th>1</th>\n",
              "      <td>2</td>\n",
              "      <td>HOSPITALIZADO</td>\n",
              "    </tr>\n",
              "    <tr>\n",
              "      <th>2</th>\n",
              "      <td>99</td>\n",
              "      <td>NO ESPECIFICADO</td>\n",
              "    </tr>\n",
              "  </tbody>\n",
              "</table>\n",
              "</div>"
            ],
            "text/plain": [
              "   clave      descripción\n",
              "0      1      AMBULATORIO\n",
              "1      2    HOSPITALIZADO\n",
              "2     99  NO ESPECIFICADO"
            ]
          },
          "metadata": {
            "tags": []
          },
          "execution_count": 72
        }
      ]
    },
    {
      "cell_type": "markdown",
      "metadata": {
        "id": "hIsZ-gb6MPMe",
        "colab_type": "text"
      },
      "source": [
        "# PERFILAMIENTO\n",
        "## Descripición General"
      ]
    },
    {
      "cell_type": "markdown",
      "metadata": {
        "id": "AUUAommKMpiD",
        "colab_type": "text"
      },
      "source": [
        ""
      ]
    },
    {
      "cell_type": "code",
      "metadata": {
        "id": "I1S36PwlMe1i",
        "colab_type": "code",
        "colab": {}
      },
      "source": [
        "# Dimensión de los datos\n",
        "print('Número de filas: {}'.format(data.shape[0]))\n",
        "print('Número de columnas: {}'.format(data.shape[1]))"
      ],
      "execution_count": null,
      "outputs": []
    },
    {
      "cell_type": "code",
      "metadata": {
        "id": "zHsJuJvyMmsN",
        "colab_type": "code",
        "colab": {}
      },
      "source": [
        "# Columnas (variables)\n",
        "data.columns"
      ],
      "execution_count": null,
      "outputs": []
    },
    {
      "cell_type": "code",
      "metadata": {
        "id": "D_6JAgmuM1Z4",
        "colab_type": "code",
        "colab": {}
      },
      "source": [
        "# Limpieza del nombre de las columnas, remover espacios, carácteres especiales y pasar a minúsculas\n",
        "data.columns = data.columns.str.replace(' ', '_')\n",
        "data.columns = data.columns.str.replace('.', '')\n",
        "data.columns = data.columns.str.lower()"
      ],
      "execution_count": 58,
      "outputs": []
    },
    {
      "cell_type": "code",
      "metadata": {
        "id": "j06NHFGmM9aa",
        "colab_type": "code",
        "colab": {}
      },
      "source": [
        "# Calcular número de valores nulos por columna\n",
        "for col in data.columns:\n",
        "  print('Valores nulos en \"{}\": {}'.format(col,data[col].isna().sum()))"
      ],
      "execution_count": null,
      "outputs": []
    },
    {
      "cell_type": "code",
      "metadata": {
        "id": "GdK_82mjNB27",
        "colab_type": "code",
        "colab": {}
      },
      "source": [
        "# Tipos de datos\n",
        "data.dtypes"
      ],
      "execution_count": null,
      "outputs": []
    },
    {
      "cell_type": "code",
      "metadata": {
        "id": "IdZIpsBQNXt-",
        "colab_type": "code",
        "colab": {}
      },
      "source": [
        "# Convertimos a fecha algunas columnas\n",
        "def cast_datetime_cols(df):\n",
        "    timestamp_cols = [col for col in df.columns if \"fecha\" in col]\n",
        "    df[timestamp_cols] = df[timestamp_cols].apply(lambda date_col: pd.to_datetime(date_col, errors=\"coerce\"), axis=0)\n",
        "    return df\n",
        "\n",
        "data = cast_datetime_cols(data)"
      ],
      "execution_count": 49,
      "outputs": []
    },
    {
      "cell_type": "code",
      "metadata": {
        "id": "0VQwUxEeNcAq",
        "colab_type": "code",
        "colab": {}
      },
      "source": [
        "data.head()"
      ],
      "execution_count": null,
      "outputs": []
    },
    {
      "cell_type": "code",
      "metadata": {
        "id": "F8yK9jNgRRcS",
        "colab_type": "code",
        "colab": {}
      },
      "source": [
        "# Unimos los datos con los catalogos para tener mejor entendimiento de ellos\n",
        "data = (\n",
        "    # Unimos con el catálogo MUNICIPIOS y ENTIDADES\n",
        "    data.merge(catalogues['de ENTIDADES'], how='left', left_on='entidad_res', right_on='clave_entidad').\n",
        "    drop(columns=['entidad_res', 'abreviatura']).\n",
        "    rename(columns={'entidad_federativa':'entidad_res'}).\n",
        "    merge(catalogues['MUNICIPIOS'], how='left', left_on=['clave_entidad','municipio_res'], right_on=['clave_entidad','clave_municipio']).\n",
        "    drop(columns=['municipio_res', 'clave_entidad', 'clave_municipio']).\n",
        "    rename(columns={'municipio':'municipio_res'})\n",
        ")"
      ],
      "execution_count": null,
      "outputs": []
    },
    {
      "cell_type": "code",
      "metadata": {
        "id": "YHYGZLBlRccN",
        "colab_type": "code",
        "colab": {}
      },
      "source": [
        "# Unimos con el catálogo de ENTIDADES\n",
        "entidades_cols = [col for col in data.columns if \"entidad\" in col and col != 'entidad_res']\n",
        "for col in entidades_cols:\n",
        "    data = (\n",
        "        data.merge(catalogues['de ENTIDADES'], how='left', left_on=col, right_on='clave_entidad').\n",
        "        drop(columns=[col, 'abreviatura', 'clave_entidad']).\n",
        "        rename(columns={'entidad_federativa':col})\n",
        "    )"
      ],
      "execution_count": null,
      "outputs": []
    },
    {
      "cell_type": "code",
      "metadata": {
        "id": "GTmcZ9o0RglR",
        "colab_type": "code",
        "colab": {}
      },
      "source": [
        "# Unimos con el catálogo SI_NO\n",
        "sino_cols = ['intubado', 'neumonia', 'embarazo', 'habla_lengua_indig', 'diabetes', 'epoc', 'asma', 'inmusupr',\n",
        "             'hipertension', 'otra_com', 'cardiovascular', 'obesidad', 'renal_cronica', 'tabaquismo', \n",
        "             'otro_caso', 'migrante', 'uci']\n",
        "for col in sino_cols:\n",
        "    data = (\n",
        "        data.merge(catalogues['SI_NO'], how='left', left_on=col, right_on='clave').\n",
        "        drop(columns=[col, 'clave']).\n",
        "        rename(columns={'descripción':col})\n",
        "    )"
      ],
      "execution_count": null,
      "outputs": []
    },
    {
      "cell_type": "code",
      "metadata": {
        "id": "AmB5p-9lNwbG",
        "colab_type": "code",
        "colab": {}
      },
      "source": [
        "# Corregimos nombre de columnas\n",
        "catalogues['RESULTADO'].columns"
      ],
      "execution_count": null,
      "outputs": []
    },
    {
      "cell_type": "code",
      "metadata": {
        "id": "Z1hPthqiN9gM",
        "colab_type": "code",
        "colab": {}
      },
      "source": [
        "catalogues['RESULTADO'].columns = ['clave', 'descripción']\n",
        "catalogues['RESULTADO'].columns"
      ],
      "execution_count": null,
      "outputs": []
    },
    {
      "cell_type": "code",
      "metadata": {
        "id": "LfuThWhGRpkP",
        "colab_type": "code",
        "colab": {}
      },
      "source": [
        "# Removemos la primer fila que no es útil\n",
        "catalogues['RESULTADO'] = catalogues['RESULTADO'].drop(index=0)"
      ],
      "execution_count": null,
      "outputs": []
    },
    {
      "cell_type": "code",
      "metadata": {
        "id": "1Glh8EHBOGmD",
        "colab_type": "code",
        "colab": {}
      },
      "source": [
        "# Convertimos el tipo de dato\n",
        "catalogues['RESULTADO']['clave'] = catalogues['RESULTADO']['clave'].astype(int)"
      ],
      "execution_count": 40,
      "outputs": []
    },
    {
      "cell_type": "code",
      "metadata": {
        "id": "vdErHECeRuVt",
        "colab_type": "code",
        "colab": {}
      },
      "source": [
        "# Fin dela limpieza\n",
        "# Unimos otras columnnas que comparten lógica\n",
        "other_cols = ['origen', 'sector', 'sexo', 'tipo_paciente', 'nacionalidad', 'resultado']\n",
        "for col, cat in zip(other_cols, [x.upper() for x in other_cols]):\n",
        "    data = (\n",
        "        data.merge(catalogues[cat], how='left', left_on=col, right_on='clave').\n",
        "        drop(columns=[col, 'clave']).\n",
        "        rename(columns={'descripción':col})\n",
        "    )"
      ],
      "execution_count": null,
      "outputs": []
    },
    {
      "cell_type": "code",
      "metadata": {
        "id": "doNkmVq7OXzK",
        "colab_type": "code",
        "colab": {}
      },
      "source": [
        "# Creamos algunas variables que podrían ser útiles después\n",
        "data['defuncion'] = data.fecha_def.isna()\n",
        "data['mes_def'] = data.fecha_def.dt.month\n",
        "data['año_def'] = data.fecha_def.dt.year\n",
        "data['mes_ingreso'] = data.fecha_ingreso.dt.month\n",
        "data['año_ingreso'] = data.fecha_ingreso.dt.year"
      ],
      "execution_count": 45,
      "outputs": []
    },
    {
      "cell_type": "code",
      "metadata": {
        "id": "eZ-e0xPgObNH",
        "colab_type": "code",
        "colab": {}
      },
      "source": [
        "data.head()"
      ],
      "execution_count": null,
      "outputs": []
    },
    {
      "cell_type": "markdown",
      "metadata": {
        "id": "hqLwoDGXOnkc",
        "colab_type": "text"
      },
      "source": [
        "# ¿Tienen los pacientes con hipertensión un riesgo más alto de defunción?"
      ]
    },
    {
      "cell_type": "code",
      "metadata": {
        "id": "vRehj6YBO2WR",
        "colab_type": "code",
        "colab": {
          "base_uri": "https://localhost:8080/",
          "height": 151
        },
        "outputId": "2a01fe96-9bc9-445c-d990-47fb602321c7"
      },
      "source": [
        "# Hipertensión\n",
        "data.groupby('hipertension').defuncion.value_counts(normalize=True)"
      ],
      "execution_count": 67,
      "outputs": [
        {
          "output_type": "execute_result",
          "data": {
            "text/plain": [
              "hipertension  defuncion\n",
              "1             True         0.833960\n",
              "              False        0.166040\n",
              "2             True         0.960276\n",
              "              False        0.039724\n",
              "98            True         0.874874\n",
              "              False        0.125126\n",
              "Name: defuncion, dtype: float64"
            ]
          },
          "metadata": {
            "tags": []
          },
          "execution_count": 67
        }
      ]
    },
    {
      "cell_type": "markdown",
      "metadata": {
        "id": "CAV9BxUFQBZC",
        "colab_type": "text"
      },
      "source": [
        "# ¿Cuántos casos confirmados se tienen por Estado?"
      ]
    },
    {
      "cell_type": "code",
      "metadata": {
        "id": "KIVpwn28P9nf",
        "colab_type": "code",
        "colab": {
          "base_uri": "https://localhost:8080/",
          "height": 571
        },
        "outputId": "48a62e0b-a71b-4ad7-ee16-ef7a2f00d6ba"
      },
      "source": [
        "# Valores por Entidad\n",
        "data.entidad_res.value_counts()"
      ],
      "execution_count": 69,
      "outputs": [
        {
          "output_type": "execute_result",
          "data": {
            "text/plain": [
              "CIUDAD DE MÉXICO                   297270\n",
              "MÉXICO                             178629\n",
              "GUANAJUATO                          82439\n",
              "NUEVO LEÓN                          74491\n",
              "PUEBLA                              61427\n",
              "TAMAULIPAS                          59580\n",
              "TABASCO                             58103\n",
              "JALISCO                             56616\n",
              "COAHUILA DE ZARAGOZA                56397\n",
              "VERACRUZ DE IGNACIO DE LA LLAVE     47492\n",
              "SAN LUIS POTOSÍ                     43722\n",
              "MICHOACÁN DE OCAMPO                 42085\n",
              "SONORA                              41707\n",
              "SINALOA                             30521\n",
              "YUCATÁN                             30267\n",
              "BAJA CALIFORNIA                     29084\n",
              "GUERRERO                            27829\n",
              "OAXACA                              21421\n",
              "DURANGO                             21290\n",
              "CHIHUAHUA                           20209\n",
              "HIDALGO                             19265\n",
              "BAJA CALIFORNIA SUR                 19054\n",
              "AGUASCALIENTES                      18775\n",
              "TLAXCALA                            18517\n",
              "QUINTANA ROO                        18164\n",
              "ZACATECAS                           13126\n",
              "QUERÉTARO                           12712\n",
              "CAMPECHE                            11616\n",
              "MORELOS                             11397\n",
              "CHIAPAS                             10864\n",
              "NAYARIT                              9294\n",
              "COLIMA                               7034\n",
              "Name: entidad_res, dtype: int64"
            ]
          },
          "metadata": {
            "tags": []
          },
          "execution_count": 69
        }
      ]
    },
    {
      "cell_type": "markdown",
      "metadata": {
        "colab_type": "text",
        "id": "zuaYg7JmWd6e"
      },
      "source": [
        "# ¿Cuántas defunciones se tienen por Estado?"
      ]
    },
    {
      "cell_type": "code",
      "metadata": {
        "id": "JZO-d4qnWrAd",
        "colab_type": "code",
        "colab": {
          "base_uri": "https://localhost:8080/",
          "height": 1000
        },
        "outputId": "5bf75cab-9a27-4cc8-cee9-66daefbee0de"
      },
      "source": [
        "lista = data.groupby(['defuncion'])['entidad_res'].value_counts()\n",
        "lista.head(60)"
      ],
      "execution_count": 79,
      "outputs": [
        {
          "output_type": "execute_result",
          "data": {
            "text/plain": [
              "defuncion  entidad_res                    \n",
              "False      MÉXICO                              13264\n",
              "           CIUDAD DE MÉXICO                    11807\n",
              "           VERACRUZ DE IGNACIO DE LA LLAVE      4727\n",
              "           PUEBLA                               4524\n",
              "           BAJA CALIFORNIA                      4019\n",
              "           JALISCO                              3751\n",
              "           SINALOA                              3651\n",
              "           NUEVO LEÓN                           3392\n",
              "           SONORA                               3232\n",
              "           GUANAJUATO                           2918\n",
              "           TABASCO                              2909\n",
              "           TAMAULIPAS                           2779\n",
              "           GUERRERO                             2232\n",
              "           COAHUILA DE ZARAGOZA                 2052\n",
              "           HIDALGO                              2009\n",
              "           CHIHUAHUA                            1991\n",
              "           QUINTANA ROO                         1866\n",
              "           MICHOACÁN DE OCAMPO                  1826\n",
              "           YUCATÁN                              1768\n",
              "           SAN LUIS POTOSÍ                      1672\n",
              "           OAXACA                               1589\n",
              "           TLAXCALA                             1309\n",
              "           MORELOS                              1238\n",
              "           CHIAPAS                              1219\n",
              "           QUERÉTARO                             952\n",
              "           CAMPECHE                              949\n",
              "           NAYARIT                               787\n",
              "           ZACATECAS                             726\n",
              "           DURANGO                               683\n",
              "           COLIMA                                569\n",
              "           AGUASCALIENTES                        549\n",
              "           BAJA CALIFORNIA SUR                   509\n",
              "True       CIUDAD DE MÉXICO                   285463\n",
              "           MÉXICO                             165365\n",
              "           GUANAJUATO                          79521\n",
              "           NUEVO LEÓN                          71099\n",
              "           PUEBLA                              56903\n",
              "           TAMAULIPAS                          56801\n",
              "           TABASCO                             55194\n",
              "           COAHUILA DE ZARAGOZA                54345\n",
              "           JALISCO                             52865\n",
              "           VERACRUZ DE IGNACIO DE LA LLAVE     42765\n",
              "           SAN LUIS POTOSÍ                     42050\n",
              "           MICHOACÁN DE OCAMPO                 40259\n",
              "           SONORA                              38475\n",
              "           YUCATÁN                             28499\n",
              "           SINALOA                             26870\n",
              "           GUERRERO                            25597\n",
              "           BAJA CALIFORNIA                     25065\n",
              "           DURANGO                             20607\n",
              "           OAXACA                              19832\n",
              "           BAJA CALIFORNIA SUR                 18545\n",
              "           AGUASCALIENTES                      18226\n",
              "           CHIHUAHUA                           18218\n",
              "           HIDALGO                             17256\n",
              "           TLAXCALA                            17208\n",
              "           QUINTANA ROO                        16298\n",
              "           ZACATECAS                           12400\n",
              "           QUERÉTARO                           11760\n",
              "           CAMPECHE                            10667\n",
              "Name: entidad_res, dtype: int64"
            ]
          },
          "metadata": {
            "tags": []
          },
          "execution_count": 79
        }
      ]
    },
    {
      "cell_type": "markdown",
      "metadata": {
        "id": "lf9fQVThZfAS",
        "colab_type": "text"
      },
      "source": [
        "# ¿Cuántos fallecimientos han ocurrido en los pacientes Ambulatorios?"
      ]
    },
    {
      "cell_type": "code",
      "metadata": {
        "id": "kE0_RpfyZkHN",
        "colab_type": "code",
        "colab": {
          "base_uri": "https://localhost:8080/",
          "height": 118
        },
        "outputId": "27116cff-f587-417b-e09c-1eeb67f0f7d6"
      },
      "source": [
        "data.groupby ('defuncion').tipo_paciente.value_counts()"
      ],
      "execution_count": 78,
      "outputs": [
        {
          "output_type": "execute_result",
          "data": {
            "text/plain": [
              "defuncion  tipo_paciente\n",
              "False      HOSPITALIZADO      78141\n",
              "           AMBULATORIO         9327\n",
              "True       AMBULATORIO      1185652\n",
              "           HOSPITALIZADO     177277\n",
              "Name: tipo_paciente, dtype: int64"
            ]
          },
          "metadata": {
            "tags": []
          },
          "execution_count": 78
        }
      ]
    }
  ]
}