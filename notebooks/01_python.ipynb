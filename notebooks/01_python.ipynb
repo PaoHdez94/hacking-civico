{
  "nbformat": 4,
  "nbformat_minor": 0,
  "metadata": {
    "colab": {
      "name": "01-python.ipynb",
      "provenance": [],
      "authorship_tag": "ABX9TyP/evkHBLz6Li+sz/PE3Umv",
      "include_colab_link": true
    },
    "kernelspec": {
      "name": "python3",
      "display_name": "Python 3"
    }
  },
  "cells": [
    {
      "cell_type": "markdown",
      "metadata": {
        "id": "view-in-github",
        "colab_type": "text"
      },
      "source": [
        "<a href=\"https://colab.research.google.com/github/PaoHdez94/hacking-civico/blob/master/notebooks/01_python.ipynb\" target=\"_parent\"><img src=\"https://colab.research.google.com/assets/colab-badge.svg\" alt=\"Open In Colab\"/></a>"
      ]
    },
    {
      "cell_type": "markdown",
      "metadata": {
        "id": "GijulQM6UnZ9",
        "colab_type": "text"
      },
      "source": [
        ""
      ]
    },
    {
      "cell_type": "code",
      "metadata": {
        "id": "dKO-8-UtUqRG",
        "colab_type": "code",
        "colab": {}
      },
      "source": [
        "# FUNCIÓN print\n",
        "print(\"Hola mundo\")\n",
        "\n",
        "# DEFINIENDO UNA VARIABLE\n",
        "poblacion = 123\n",
        "print (poblacion)\n",
        "\n",
        "x = 2\n",
        "y = x\n",
        "print(y)"
      ],
      "execution_count": null,
      "outputs": []
    },
    {
      "cell_type": "code",
      "metadata": {
        "id": "ILpXZtxcZH6r",
        "colab_type": "code",
        "colab": {}
      },
      "source": [
        "# INDICA EL TIPO DE DATO type\n",
        "numero_1 = 4\n",
        "numero_2 = 4.0\n",
        "\n",
        "print (type(numero_1))\n",
        "print (type(numero_1))\n",
        "\n",
        "# TIPOS DE DATOS\n",
        "suma = 5 + 3.1\n",
        "\n",
        "print(suma)\n",
        "print(type(suma))"
      ],
      "execution_count": null,
      "outputs": []
    },
    {
      "cell_type": "code",
      "metadata": {
        "id": "pdkk027OZPGO",
        "colab_type": "code",
        "colab": {}
      },
      "source": [
        "# CONVERTIR DE FLOTANTE A ENTERO int()       **NOTA: NO SE REDONDEAN**\n",
        "flotante = 3.7\n",
        "flotante = int(flotante)\n",
        "\n",
        "print(flotante)\n",
        "print(type(flotante))\n",
        "\n",
        "# CONVERTIR DE ENTERO A FLOTANTE float()\n",
        "entero = 4\n",
        "entero = float(entero)\n",
        "\n",
        "print(entero)\n",
        "print(type(entero))"
      ],
      "execution_count": null,
      "outputs": []
    },
    {
      "cell_type": "code",
      "metadata": {
        "id": "Bh0ojphUaFlT",
        "colab_type": "code",
        "colab": {}
      },
      "source": [
        "# STRINGS ' '\n",
        "primera = 'Hola a todos'\n",
        "segunda = 'Bienvenidos'\n",
        "\n",
        "print(primera)\n",
        "print(segunda)"
      ],
      "execution_count": null,
      "outputs": []
    },
    {
      "cell_type": "code",
      "metadata": {
        "id": "I_GxmN5CaorD",
        "colab_type": "code",
        "colab": {}
      },
      "source": [
        "# STRINGS \" \"\n",
        "primera = \"Hola \"\n",
        "segunda = \"Bienvenidos\"\n",
        "\n",
        "mensaje1 = primera + \"\" + segunda\n",
        "mensaje2 = primera\n",
        "\n",
        "print(mensaje1)\n",
        "print(mensaje2 * 3)\n"
      ],
      "execution_count": null,
      "outputs": []
    },
    {
      "cell_type": "code",
      "metadata": {
        "id": "-9ZKDsVBpKUb",
        "colab_type": "code",
        "colab": {}
      },
      "source": [
        "# OPERACIONES ARITMÉTICAS\n",
        "suma = 4 + 8\n",
        "resta = 15 - 6\n",
        "multiplicacion = 9 * 3\n",
        "division = 66 / 2\n",
        "modulo = 22 % 3 # Regresa el restante de una división\n",
        "potencia = 2 ** 2\n",
        "division_entera = 5 // 2\n",
        "\n",
        "print(suma)\n",
        "print(resta)\n",
        "print(multiplicacion)\n",
        "print(division)\n",
        "print(modulo)\n",
        "print(potencia)\n",
        "print(division_entera)"
      ],
      "execution_count": null,
      "outputs": []
    },
    {
      "cell_type": "code",
      "metadata": {
        "id": "4dK7M0j1Ibum",
        "colab_type": "code",
        "colab": {}
      },
      "source": [
        "# ASIGNACIÓN\n",
        "poblacion = 123\n",
        "poblacion = poblacion + 7\n",
        "\n",
        "poblacion1 = 123\n",
        "poblacion1 += 7\n",
        "\n",
        "print(poblacion)\n",
        "print(poblacion1)"
      ],
      "execution_count": null,
      "outputs": []
    },
    {
      "cell_type": "code",
      "metadata": {
        "id": "VlaD4sOPJVGl",
        "colab_type": "code",
        "colab": {}
      },
      "source": [
        "# COMPARACIÓN\n",
        "x = 33 > 18\n",
        "\n",
        "print(x)"
      ],
      "execution_count": null,
      "outputs": []
    },
    {
      "cell_type": "code",
      "metadata": {
        "id": "jyTasZMfJvtf",
        "colab_type": "code",
        "colab": {}
      },
      "source": [
        "# OPERACIÓN LÓGICA\n",
        "edad = 10\n",
        "adolescente = edad > 12 and edad < 20\n",
        "\n",
        "print(adolescente)"
      ],
      "execution_count": null,
      "outputs": []
    }
  ]
}