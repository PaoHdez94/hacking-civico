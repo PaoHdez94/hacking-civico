{
  "nbformat": 4,
  "nbformat_minor": 0,
  "metadata": {
    "colab": {
      "name": "EJEMPLOS.ipynb",
      "provenance": [],
      "authorship_tag": "ABX9TyPa9c1Irqp19qJYLoGh5zD2",
      "include_colab_link": true
    },
    "kernelspec": {
      "name": "python3",
      "display_name": "Python 3"
    }
  },
  "cells": [
    {
      "cell_type": "markdown",
      "metadata": {
        "id": "view-in-github",
        "colab_type": "text"
      },
      "source": [
        "<a href=\"https://colab.research.google.com/github/PaoHdez94/hacking-civico/blob/master/notebooks/EJEMPLOS.ipynb\" target=\"_parent\"><img src=\"https://colab.research.google.com/assets/colab-badge.svg\" alt=\"Open In Colab\"/></a>"
      ]
    },
    {
      "cell_type": "code",
      "metadata": {
        "id": "-Amg2rpbwOij",
        "colab_type": "code",
        "colab": {}
      },
      "source": [
        "# EJEMPLO DE CONDICIONALES (if)\n",
        "ciudad = \"León\"\n",
        "if ciudad == \"León\":\n",
        "  print(\"La ciudad si es León\")\n",
        "\n",
        "# EJEMPLO CON else\n",
        "numero = 8\n",
        "if numero % 2 == 0:\n",
        "  print(\"El número \" + str(numero) + \" es Par\")\n",
        "else:\n",
        "  print(\"El número \" + str(numero) + \" es Impar\")\n",
        "\n",
        "# EJEMPLO CON elif\n",
        "valor = 250\n",
        "if valor > 0 and valor <50:\n",
        "  print(\"Calidad del aire es buena\")\n",
        "elif valor > 51 and valor <100:\n",
        "  print(\"Calidad del aire es regular\")\n",
        "elif valor > 101 and valor <150:\n",
        "  print(\"Calidad del aire es mala\")\n",
        "elif valor > 151 and valor <200:\n",
        "  print(\"Calidad del aire es muy mala\")\n",
        "else:\n",
        "  print(\"Calidad del aire es extremadamente mala\")\n"
      ],
      "execution_count": null,
      "outputs": []
    },
    {
      "cell_type": "code",
      "metadata": {
        "id": "ut4TPqV6-pKz",
        "colab_type": "code",
        "colab": {}
      },
      "source": [
        "# EJEMPLO DE CICLOS for\n",
        "for i in \"Hola\":\n",
        "  print(i)\n",
        "\n",
        "# EJEMPLO range\n",
        "for i in range (5,101,5):\n",
        "  print(\"El número: \" + str(i) + \" es múltiplo de 5.\")"
      ],
      "execution_count": null,
      "outputs": []
    },
    {
      "cell_type": "code",
      "metadata": {
        "id": "wPXIUwvrAr5B",
        "colab_type": "code",
        "colab": {}
      },
      "source": [
        "# EJEMPLO DE while\n",
        "numero = 0\n",
        "while numero < 3:\n",
        "  print(\"hola\")\n",
        "  numero = numero + 1\n",
        "\n",
        "# OTRO EJEMPLO\n",
        "personas = 3\n",
        "dia = 0\n",
        "\n",
        "while dia < 10:\n",
        "  print(\"Día: \" + str(dia) + \", Número de personas enfermas: \" + str(personas))\n",
        "  personas = personas * 2\n",
        "  dia = dia + 1"
      ],
      "execution_count": null,
      "outputs": []
    }
  ]
}